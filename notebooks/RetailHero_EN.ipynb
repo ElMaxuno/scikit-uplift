{
  "nbformat": 4,
  "nbformat_minor": 0,
  "metadata": {
    "kernelspec": {
      "display_name": "python 3",
      "language": "python",
      "name": "python3"
    },
    "language_info": {
      "codemirror_mode": {
        "name": "ipython",
        "version": 3
      },
      "file_extension": ".py",
      "mimetype": "text/x-python",
      "name": "python",
      "nbconvert_exporter": "python",
      "pygments_lexer": "ipython3",
      "version": "3.6.1"
    },
    "colab": {
      "name": "RetailHero_EN.ipynb",
      "provenance": []
    }
  },
  "cells": [
    {
      "cell_type": "markdown",
      "metadata": {
        "id": "dW9C26GZCIJc",
        "colab_type": "text"
      },
      "source": [
        "# The overview of the basic approaches to solving the Uplift Modeling problem\n",
        "\n",
        "<br>\n",
        "<center> \n",
        "  <b><a href=\"https://github.com/maks-sh/scikit-uplift/\">SCIKIT-UPLIFT REPO</a> | </b>\n",
        "  <b><a href=\"https://github.com/maks-sh/scikit-uplift/blob/master/notebooks/RetailHero_EN.ipynb\">RUSSIAN VERSION</a></b>\n",
        "</center>"
      ]
    },
    {
      "cell_type": "markdown",
      "metadata": {
        "id": "9Mz7V_YaCIKC",
        "colab_type": "text"
      },
      "source": [
        "## Content\n",
        "\n",
        "* [Introduction](#Introduction)\n",
        "* [1. Approaches with the same model](#1.-Approaches-with-the-same-model)\n",
        "    * [1.1 One model](#1.1-One-model-with-treatment-as-a-feature)\n",
        "    * [1.2 Class Transformation](#1.2-Class-Transformation)\n",
        "* [2. Approaches with two models](#2.-Approaches-with-two-models)\n",
        "    * [2.1 Two independent models](#2.1-Two-independent-models)\n",
        "    * [2.2 Two dependent models](#2.2-Two-dependent-models)\n",
        "* [Conclusion](#Conclusion)\n",
        "\n",
        "## Introduction\n",
        "\n",
        "Before proceeding to the discussion of uplift modeling, let's imagine some situation:\n",
        "\n",
        "A customer comes to you with a certain problem: it is necessary to advertise a popular product using the sms.\n",
        "You know that the product is quite popular, and it is often installed by the customers without communication, that the usual binary classification will find the same customers, and the cost of communication is critical for us...\n",
        "\n",
        "And then you begin to understand that the product is already popular, that the product is often installed by customers  without communication, that the usual binary classification will find many such customers, and the cost of communication is critical for us...\n",
        "\n",
        "Historically, according to the impact of communication, marketers divide all customers into 4 categories:\n",
        "\n",
        "<p align=\"center\">\n",
        "  <img src=\"https://raw.githubusercontent.com/maks-sh/scikit-uplift/master/docs/_static/images/client_types.png\" alt=\"Customer types\"/>\n",
        "</p>\n",
        "\n",
        "1. **Sleeping dog (or Do Not Disturb)** is a person who will react negatively if you communicate. A striking example: the customers who forgot about a paid subscription. When they receive a reminder about this, they will disable the subscription. It turns out that the customers will still bring in money if you don’t touch them.\n",
        "2. **Lost Causes** is a person who will not perform a targeted action in spite of making the communication with them. The Interaction with such clients does not generate the additional revenue but creates the additional costs.\n",
        "3. **Sure Things** is a person who will respond positively no matter what. It’s the most loyal type of the customers. Similarly, to the previous paragraph, these clients also spend resources. However, in this case, the costs are much higher, because the **confident** also uses the marketing offer (discounts, coupons, and more).\n",
        "4. **Persuadables** is a person who responds positively to an offer, but in its absence would not have fulfilled the target action. These are the people we would like to define as our model in order to communicate with them\n",
        "\n",
        "We should mention about the depending on the client base and the company's characteristics. Some types of clients may not be available.\n",
        "\n",
        "Thus, in this task, we don’t want to predict the probability of performing a target action, but to focus the advertising budget on the customers who will perform the target action only when we interact. In other words, we want to evaluate two conditional probabilities separately for each client:\n",
        "\n",
        "\n",
        "* Performing a targeted action when we influence the client. \n",
        "    We will refer such clients to the **test group (aka treatment)**: $P^T = P(Y=1 | W = 1)$,\n",
        "* Performing a targeted action without affecting the client. \n",
        "    We will refer such clients to the **control group (aka control)**: $P^C = P(Y=1 | W = 0)$,\n",
        "\n",
        "where $Y$ is the binary flag for executing the target action, and $W$ is the binary flag for communication (in English literature, _treatment_)\n",
        "\n",
        "The very same cause-and-effect effect is called **uplift** and is estimated as the difference between these two probabilities:\n",
        "\n",
        "$$ uplift = P^T - P^C = P(Y = 1 | W = 1) - P(Y = 1 | W = 0)$$\n",
        "\n",
        "Predicting uplift is a cause-and-effect inference task. The point is that you need to evaluate the difference between two events that are mutually exclusive for a particular client (either we interact with a person, or not; you can't perform two of these actions at the same time). This is why additional requirements for source data are required for building uplift models.\n",
        "\n",
        "To get a training sample for the uplift simulation, you need to conduct an experiment: \n",
        "1. Randomly split a representative part of the client base into a test and control group\n",
        "2. Communicate with the test group\n",
        "\n",
        "The data obtained as part of the design of such a pilot will allow us to build an uplift forecasting model in the future. It is also worth noting that the experiment should be as similar as possible to the campaign, which will be launched later on a larger scale. The only difference between the experiment and the campaign should be the fact that during the pilot, we choose random clients for interaction, and during the campaign - based on the predicted value of the Uplift. If the campaign that is eventually launched differs significantly from the experiment that is used to collect data about the performance of targeted actions by clients, then the model that is built may be less reliable and accurate.\n",
        "\n",
        "So, the approaches to predicting uplift are aimed at assessing the net effect of marketing campaigns on customers.\n",
        "\n",
        "All classical approaches to uplift modeling can be divided into two classes:\n",
        "1. Approaches with the same model\n",
        "2. Approaches using two models\n",
        "\n",
        "We download [contest data RetailHero.ai](https://retailhero.ai/c/uplift_modeling/overview):"
      ]
    },
    {
      "cell_type": "code",
      "metadata": {
        "id": "DKvg0hDcCfvi",
        "colab_type": "code",
        "outputId": "c1864df4-2d46-4817-f865-2f3d46eb0c21",
        "colab": {
          "base_uri": "https://localhost:8080/",
          "height": 700
        }
      },
      "source": [
        "import urllib.request\n",
        "\n",
        "print('Beginning file download with urllib2...')\n",
        "\n",
        "url = 'https://drive.google.com/u/0/uc?id=1fkxNmihuS15kk0PP0QcphL_Z3_z8LLeb&export=download'\n",
        "urllib.request.urlretrieve(url, '/content/retail_hero.zip')\n",
        "\n",
        "!unzip /content/retail_hero.zip\n",
        "!pip install scikit-uplift\n",
        "!pip install catboost"
      ],
      "execution_count": 0,
      "outputs": [
        {
          "output_type": "stream",
          "text": [
            "Beginning file download with urllib2...\n",
            "Archive:  /content/retail_hero.zip\n",
            "  inflating: uplift_data/uplift_train.csv  \n",
            "  inflating: uplift_data/uplift_test.csv  \n",
            "  inflating: uplift_data/clients.csv  \n",
            "Collecting scikit-uplift\n",
            "  Downloading https://files.pythonhosted.org/packages/6e/e8/a10e32196db52f88033aa5501cf17fb1b3c6166c38ea2f1ac2fcdb768cdc/scikit_uplift-0.0.3-py2.py3-none-any.whl\n",
            "Requirement already satisfied: numpy>=1.16 in /usr/local/lib/python3.6/dist-packages (from scikit-uplift) (1.18.2)\n",
            "Requirement already satisfied: matplotlib in /usr/local/lib/python3.6/dist-packages (from scikit-uplift) (3.2.1)\n",
            "Requirement already satisfied: pandas in /usr/local/lib/python3.6/dist-packages (from scikit-uplift) (1.0.3)\n",
            "Requirement already satisfied: scikit-learn>=0.21.0 in /usr/local/lib/python3.6/dist-packages (from scikit-uplift) (0.22.2.post1)\n",
            "Requirement already satisfied: pyparsing!=2.0.4,!=2.1.2,!=2.1.6,>=2.0.1 in /usr/local/lib/python3.6/dist-packages (from matplotlib->scikit-uplift) (2.4.6)\n",
            "Requirement already satisfied: kiwisolver>=1.0.1 in /usr/local/lib/python3.6/dist-packages (from matplotlib->scikit-uplift) (1.2.0)\n",
            "Requirement already satisfied: cycler>=0.10 in /usr/local/lib/python3.6/dist-packages (from matplotlib->scikit-uplift) (0.10.0)\n",
            "Requirement already satisfied: python-dateutil>=2.1 in /usr/local/lib/python3.6/dist-packages (from matplotlib->scikit-uplift) (2.8.1)\n",
            "Requirement already satisfied: pytz>=2017.2 in /usr/local/lib/python3.6/dist-packages (from pandas->scikit-uplift) (2018.9)\n",
            "Requirement already satisfied: scipy>=0.17.0 in /usr/local/lib/python3.6/dist-packages (from scikit-learn>=0.21.0->scikit-uplift) (1.4.1)\n",
            "Requirement already satisfied: joblib>=0.11 in /usr/local/lib/python3.6/dist-packages (from scikit-learn>=0.21.0->scikit-uplift) (0.14.1)\n",
            "Requirement already satisfied: six in /usr/local/lib/python3.6/dist-packages (from cycler>=0.10->matplotlib->scikit-uplift) (1.12.0)\n",
            "Installing collected packages: scikit-uplift\n",
            "Successfully installed scikit-uplift-0.0.3\n",
            "Collecting catboost\n",
            "\u001b[?25l  Downloading https://files.pythonhosted.org/packages/94/ec/12b9a42b2ea7dfe5b602f235692ab2b61ee1334ff34334a15902272869e8/catboost-0.22-cp36-none-manylinux1_x86_64.whl (64.4MB)\n",
            "\u001b[K     |████████████████████████████████| 64.4MB 77kB/s \n",
            "\u001b[?25hRequirement already satisfied: pandas>=0.24.0 in /usr/local/lib/python3.6/dist-packages (from catboost) (1.0.3)\n",
            "Requirement already satisfied: matplotlib in /usr/local/lib/python3.6/dist-packages (from catboost) (3.2.1)\n",
            "Requirement already satisfied: scipy in /usr/local/lib/python3.6/dist-packages (from catboost) (1.4.1)\n",
            "Requirement already satisfied: numpy>=1.16.0 in /usr/local/lib/python3.6/dist-packages (from catboost) (1.18.2)\n",
            "Requirement already satisfied: graphviz in /usr/local/lib/python3.6/dist-packages (from catboost) (0.10.1)\n",
            "Requirement already satisfied: plotly in /usr/local/lib/python3.6/dist-packages (from catboost) (4.4.1)\n",
            "Requirement already satisfied: six in /usr/local/lib/python3.6/dist-packages (from catboost) (1.12.0)\n",
            "Requirement already satisfied: pytz>=2017.2 in /usr/local/lib/python3.6/dist-packages (from pandas>=0.24.0->catboost) (2018.9)\n",
            "Requirement already satisfied: python-dateutil>=2.6.1 in /usr/local/lib/python3.6/dist-packages (from pandas>=0.24.0->catboost) (2.8.1)\n",
            "Requirement already satisfied: pyparsing!=2.0.4,!=2.1.2,!=2.1.6,>=2.0.1 in /usr/local/lib/python3.6/dist-packages (from matplotlib->catboost) (2.4.6)\n",
            "Requirement already satisfied: cycler>=0.10 in /usr/local/lib/python3.6/dist-packages (from matplotlib->catboost) (0.10.0)\n",
            "Requirement already satisfied: kiwisolver>=1.0.1 in /usr/local/lib/python3.6/dist-packages (from matplotlib->catboost) (1.2.0)\n",
            "Requirement already satisfied: retrying>=1.3.3 in /usr/local/lib/python3.6/dist-packages (from plotly->catboost) (1.3.3)\n",
            "Installing collected packages: catboost\n",
            "Successfully installed catboost-0.22\n"
          ],
          "name": "stdout"
        }
      ]
    },
    {
      "cell_type": "markdown",
      "metadata": {
        "id": "76e99aut_1nH",
        "colab_type": "text"
      },
      "source": [
        "Now let's preprocess it a bit:"
      ]
    },
    {
      "cell_type": "code",
      "metadata": {
        "ExecuteTime": {
          "end_time": "2020-03-11T13:17:31.505334Z",
          "start_time": "2020-03-11T13:17:28.041477Z"
        },
        "id": "wojgYP76CIKH",
        "colab_type": "code",
        "colab": {}
      },
      "source": [
        "%matplotlib inline\n",
        "\n",
        "import pandas as pd; pd.set_option('display.max_columns', None)\n",
        "from sklearn.model_selection import train_test_split\n",
        "\n",
        "\n",
        "# reading data\n",
        "df_clients = pd.read_csv('/content/uplift_data/clients.csv', index_col='client_id')\n",
        "df_train = pd.read_csv('/content/uplift_data/uplift_train.csv', index_col='client_id')\n",
        "df_test = pd.read_csv('/content/uplift_data/uplift_test.csv', index_col='client_id')\n",
        "\n",
        "# extracting features\n",
        "df_features = df_clients.copy()\n",
        "df_features['first_issue_time'] = \\\n",
        "    (pd.to_datetime(df_features['first_issue_date'])\n",
        "     - pd.Timestamp('1970-01-01')) // pd.Timedelta('1s')\n",
        "df_features['first_redeem_time'] = \\\n",
        "    (pd.to_datetime(df_features['first_redeem_date'])\n",
        "     - pd.Timestamp('1970-01-01')) // pd.Timedelta('1s')\n",
        "df_features['issue_redeem_delay'] = df_features['first_redeem_time'] \\\n",
        "    - df_features['first_issue_time']\n",
        "df_features = df_features.drop(['first_issue_date', 'first_redeem_date'], axis=1)\n",
        "\n",
        "indices_train = df_train.index\n",
        "indices_test = df_test.index\n",
        "indices_learn, indices_valid = train_test_split(df_train.index, test_size=0.3, random_state=123)"
      ],
      "execution_count": 0,
      "outputs": []
    },
    {
      "cell_type": "markdown",
      "metadata": {
        "id": "LB42pR6iCIK9",
        "colab_type": "text"
      },
      "source": [
        "For convenience, we will declare some variables:"
      ]
    },
    {
      "cell_type": "code",
      "metadata": {
        "ExecuteTime": {
          "end_time": "2020-03-11T13:17:32.709227Z",
          "start_time": "2020-03-11T13:17:31.507795Z"
        },
        "id": "_HyKmGQ_CILw",
        "colab_type": "code",
        "colab": {}
      },
      "source": [
        "X_train = df_features.loc[indices_learn, :]\n",
        "y_train = df_train.loc[indices_learn, 'target']\n",
        "treat_train = df_train.loc[indices_learn, 'treatment_flg']\n",
        "\n",
        "X_val = df_features.loc[indices_valid, :]\n",
        "y_val = df_train.loc[indices_valid, 'target']\n",
        "treat_val =  df_train.loc[indices_valid, 'treatment_flg']\n",
        "\n",
        "X_train_full = df_features.loc[indices_train, :]\n",
        "y_train_full = df_train.loc[:, 'target']\n",
        "treat_train_full = df_train.loc[:, 'treatment_flg']\n",
        "\n",
        "X_test = df_features.loc[indices_test, :]\n",
        "\n",
        "cat_features = ['gender']\n",
        "\n",
        "models_results = {\n",
        "    'approach': [],\n",
        "    'uplift@30%': []\n",
        "}"
      ],
      "execution_count": 0,
      "outputs": []
    },
    {
      "cell_type": "markdown",
      "metadata": {
        "id": "olRc5k9iCIMP",
        "colab_type": "text"
      },
      "source": [
        "## 1. Approaches with the same model\n",
        "\n",
        "### 1.1 One model with treatment as a feature\n",
        "\n",
        "The simplest and most intuitive solution is when the model is trained simultaneously on two groups, with the binary communication flag acting as an additional feature. Each object from the test sample is scored twice: with the communication flag equal to 1 and equal to 0. Subtracting the probabilities for each observation, we get the required uplift.\n",
        "\n",
        "<p align=\"center\">\n",
        "  <img src=\"https://raw.githubusercontent.com/maks-sh/scikit-uplift/master/docs/_static/images/SoloModel.png\" alt=\"Solo model with treatment as a feature\"/>\n",
        "</p>"
      ]
    },
    {
      "cell_type": "code",
      "metadata": {
        "ExecuteTime": {
          "end_time": "2020-03-11T13:17:35.648772Z",
          "start_time": "2020-03-11T13:17:32.718269Z"
        },
        "id": "Aq5-jjbeCIMa",
        "colab_type": "code",
        "outputId": "83b9f995-a4ec-4c7b-933c-e60521956ab6",
        "colab": {
          "base_uri": "https://localhost:8080/",
          "height": 444
        }
      },
      "source": [
        "# installation instructions: https://github.com/maks-sh/scikit-uplift\n",
        "# link to the documentation: https://scikit-uplift.readthedocs.io/en/latest/\n",
        "from sklift.metrics import uplift_at_k\n",
        "from sklift.viz import plot_uplift_preds\n",
        "from sklift.models import SoloModel\n",
        "\n",
        "# sklift supports all models, \n",
        "# that satisfy scikit-learn convention\n",
        "# for example, let's use catboost\n",
        "from catboost import CatBoostClassifier\n",
        "\n",
        "\n",
        "sm = SoloModel(CatBoostClassifier(iterations=20, thread_count=2, random_state=42, silent=True))\n",
        "sm = sm.fit(X_train, y_train, treat_train, estimator_fit_params={'cat_features': cat_features})\n",
        "\n",
        "uplift_sm = sm.predict(X_val)\n",
        "\n",
        "sm_score = uplift_at_k(y_true=y_val, uplift=uplift_sm, treatment=treat_val, k=0.3)\n",
        "\n",
        "models_results['approach'].append('SoloModel')\n",
        "models_results['uplift@30%'].append(sm_score)\n",
        "\n",
        "# get conditional probabilities (predictions) of performing the target action \n",
        "# during interaction for each object\n",
        "sm_trmnt_preds = sm.trmnt_preds_\n",
        "# And conditional probabilities (predictions) of performing the target action \n",
        "# without interaction for each object\n",
        "sm_ctrl_preds = sm.ctrl_preds_\n",
        "\n",
        "# draw the probability (predictions) distributions and their difference (uplift)\n",
        "plot_uplift_preds(trmnt_preds=sm_trmnt_preds, ctrl_preds=sm_ctrl_preds);"
      ],
      "execution_count": 0,
      "outputs": [
        {
          "output_type": "display_data",
          "data": {
            "image/png": "[encoded data removed]",
            "text/plain": [
              "<Figure size 1440x504 with 3 Axes>"
            ]
          },
          "metadata": {
            "tags": []
          }
        }
      ]
    },
    {
      "cell_type": "code",
      "metadata": {
        "ExecuteTime": {
          "end_time": "2020-03-11T13:17:35.676661Z",
          "start_time": "2020-03-11T13:17:35.653701Z"
        },
        "id": "VH0YzW0JCIM0",
        "colab_type": "code",
        "outputId": "f9e2ae2f-904d-4210-9271-fb74d97e2402",
        "colab": {
          "base_uri": "https://localhost:8080/",
          "height": 235
        }
      },
      "source": [
        "# You can also access the trained model with the same ease.\n",
        "# For example, to build the importance of features:\n",
        "sm_fi = pd.DataFrame({\n",
        "    'feature_name': sm.estimator.feature_names_,\n",
        "    'feature_score': sm.estimator.feature_importances_\n",
        "}).sort_values('feature_score', ascending=False).reset_index(drop=True)\n",
        "\n",
        "sm_fi"
      ],
      "execution_count": 0,
      "outputs": [
        {
          "output_type": "execute_result",
          "data": {
            "text/html": [
              "<div>\n",
              "<style scoped>\n",
              "    .dataframe tbody tr th:only-of-type {\n",
              "        vertical-align: middle;\n",
              "    }\n",
              "\n",
              "    .dataframe tbody tr th {\n",
              "        vertical-align: top;\n",
              "    }\n",
              "\n",
              "    .dataframe thead th {\n",
              "        text-align: right;\n",
              "    }\n",
              "</style>\n",
              "<table border=\"1\" class=\"dataframe\">\n",
              "  <thead>\n",
              "    <tr style=\"text-align: right;\">\n",
              "      <th></th>\n",
              "      <th>feature_name</th>\n",
              "      <th>feature_score</th>\n",
              "    </tr>\n",
              "  </thead>\n",
              "  <tbody>\n",
              "    <tr>\n",
              "      <th>0</th>\n",
              "      <td>first_redeem_time</td>\n",
              "      <td>65.214393</td>\n",
              "    </tr>\n",
              "    <tr>\n",
              "      <th>1</th>\n",
              "      <td>issue_redeem_delay</td>\n",
              "      <td>12.564364</td>\n",
              "    </tr>\n",
              "    <tr>\n",
              "      <th>2</th>\n",
              "      <td>age</td>\n",
              "      <td>7.891613</td>\n",
              "    </tr>\n",
              "    <tr>\n",
              "      <th>3</th>\n",
              "      <td>first_issue_time</td>\n",
              "      <td>7.262806</td>\n",
              "    </tr>\n",
              "    <tr>\n",
              "      <th>4</th>\n",
              "      <td>treatment</td>\n",
              "      <td>4.362077</td>\n",
              "    </tr>\n",
              "    <tr>\n",
              "      <th>5</th>\n",
              "      <td>gender</td>\n",
              "      <td>2.704747</td>\n",
              "    </tr>\n",
              "  </tbody>\n",
              "</table>\n",
              "</div>"
            ],
            "text/plain": [
              "         feature_name  feature_score\n",
              "0   first_redeem_time      65.214393\n",
              "1  issue_redeem_delay      12.564364\n",
              "2                 age       7.891613\n",
              "3    first_issue_time       7.262806\n",
              "4           treatment       4.362077\n",
              "5              gender       2.704747"
            ]
          },
          "metadata": {
            "tags": []
          },
          "execution_count": 5
        }
      ]
    },
    {
      "cell_type": "markdown",
      "metadata": {
        "id": "Fi_ypKsrCINU",
        "colab_type": "text"
      },
      "source": [
        "### 1.2 Class Transformation\n",
        "\n",
        "Quite an interesting and mathematically confirmed approach to building a model, presented in 2012. The method is to predict a slightly changed target:\n",
        "\n",
        "$$\n",
        "z_i = y_i * w_i + (1-y_i) * (1 - w_i),\n",
        "$$\n",
        "where \n",
        "\n",
        "* $z_i$ - new target variable of the$i $ client; \n",
        "* $y_i$ - target variable of the$i $ client;\n",
        "* $w_i$ - flag for communication of the$i $ client;  \n",
        "\n",
        "\n",
        "In other words, the new class is 1 if we know that on a particular observation, the result in the interaction would be as good as in the control group if we could know the result in both groups:\n",
        "\n",
        "$$\n",
        "z_i = \\begin{cases} \n",
        "    1, & \\mbox{if} w_i = 1 \\mbox{ and } y_i = 1 \\\\ \n",
        "    1, & \\mbox{if} w_i = 0 \\mbox{ and } y_i = 0 \\\\\n",
        "    0, & \\mbox{in all other cases} \n",
        "   \\end{cases}\n",
        "$$\n",
        "\n",
        "Let's describe in more detail what is the probability of a new target variable:\n",
        "\n",
        "$$ \n",
        "P(Z=1|X_1, ..., X_m) = \\\\\n",
        "= P(Z=1|X_1, ..., X_m, W = 1) * P(W = 1|X_1, ..., X_m, ) + \\\\\n",
        "+ P(Z=1|X_1, ..., X_m, W = 0) * P(W = 0|X_1, ..., X_m, ) = \\\\\n",
        "= P(Y=1|X_1, ..., X_m, W = 1) * P(W = 1|X_1, ..., X_m, ) + \\\\\n",
        "+ P(Y=0|X_1, ..., X_m, W = 0) * P(W = 0|X_1, ..., X_m, ).\n",
        "$$\n",
        "\n",
        "We assume that $ W $ does not depend on the attributes of $ X_1, ..., X_m $, because otherwise the experiment design is not very well designed. Taking this, we have: $ P(W | X_1, ..., X_m, ) = P(W) $ and \n",
        "\n",
        "$$\n",
        "P(Z=1|X_1, ..., X_m) = \\\\\n",
        "= P^T(Y=1|X_1, ..., X_m) * P(W = 1) + \\\\\n",
        "+ P^C(Y=0|X_1, ..., X_m) * P(W = 0).\n",
        "$$\n",
        "\n",
        "Also assume that $P(W = 1) = P(W = 0) = \\frac{1}{2}$, i.e. during the experiment, the control and test groups were divided in equal proportions. Then we get the following:\n",
        "\n",
        "$$\n",
        "P(Z=1|X_1, ..., X_m) = \n",
        "P^T(Y=1|X_1, ..., X_m) * \\frac{1}{2} + P^C(Y=0|X_1, ..., X_m) *\\frac{1}{2} \\Rightarrow \\\\\n",
        "\\Rightarrow 2 * P(Z=1|X_1, ..., X_m) = P^T(Y=1|X_1, ..., X_m) + P^C(Y=0|X_1, ..., X_m) = \\\\\n",
        "= P^T(Y=1|X_1, ..., X_m) + 1 - P^C(Y=1|X_1, ..., X_m) \\Rightarrow \\\\\n",
        "\\Rightarrow P^T(Y=1|X_1, ..., X_m) - P^C(Y=1|X_1, ..., X_m) = UPLIFT = 2 * P(Z=1|X_1, ..., X_m) - 1\n",
        "$$\n",
        "\n",
        "Thus, by doubling the forecast of the new target and subtracting one from it, we get the value of the uplift itself, i.e.\n",
        "\n",
        "$$\n",
        "UPLIFT = 2 * P(Z=1) - 1\n",
        "$$\n",
        "\n",
        "Based on the assumption described above: $P(W = 1) = P(W = 0) = \\frac{1}{2}$, this approach should only be used in cases where the number of clients we have communicated with is equal to the number of clients we have not communicated with."
      ]
    },
    {
      "cell_type": "code",
      "metadata": {
        "ExecuteTime": {
          "end_time": "2020-03-11T13:17:36.970863Z",
          "start_time": "2020-03-11T13:17:35.679203Z"
        },
        "scrolled": true,
        "id": "j8ZobWF-CINc",
        "colab_type": "code",
        "outputId": "16ccac52-b9f5-4d55-a05c-1d3270819f91",
        "colab": {
          "base_uri": "https://localhost:8080/",
          "height": 71
        }
      },
      "source": [
        "from sklift.models import ClassTransformation\n",
        "\n",
        "\n",
        "ct = ClassTransformation(CatBoostClassifier(iterations=20, thread_count=2, random_state=42, silent=True))\n",
        "ct = ct.fit(X_train, y_train, treat_train, estimator_fit_params={'cat_features': cat_features})\n",
        "\n",
        "uplift_ct = ct.predict(X_val)\n",
        "\n",
        "ct_score = uplift_at_k(y_true=y_val, uplift=uplift_ct, treatment=treat_val, k=0.3)\n",
        "\n",
        "models_results['approach'].append('ClassTransformation')\n",
        "models_results['uplift@30%'].append(ct_score)"
      ],
      "execution_count": 0,
      "outputs": [
        {
          "output_type": "stream",
          "text": [
            "/usr/local/lib/python3.6/dist-packages/ipykernel_launcher.py:5: UserWarning: It is recommended to use this approach on treatment balanced data. Current sample size is unbalanced.\n",
            "  \"\"\"\n"
          ],
          "name": "stderr"
        }
      ]
    },
    {
      "cell_type": "markdown",
      "metadata": {
        "id": "jaCZSMxyCIOV",
        "colab_type": "text"
      },
      "source": [
        "## 2. Approaches with two models\n",
        "\n",
        "The two-model approach can be found in almost any uplift modeling work and is often used as a baseline. However, using two models can lead to some unpleasant consequences: if you use fundamentally different models for training, or if the nature of the test and control group data is very different, then the scores returned by the models will not be comparable. As a result, the calculation of the uplift will not be completely correct. To avoid this effect, you need to calibrate the models so that their scores can be interpolated as probabilities. The calibration of model probabilities is described perfectly in [scikit-learn documentation](https://scikit-learn.org/stable/modules/calibration.html).\n",
        "\n",
        "### 2.1 Two independent models\n",
        "\n",
        "As the name implies, the approach models the conditional probabilities of the test and controls groups separately. The articles argue that this approach is rather weak, because both models focus on predicting the results separately and can skip the \"weaker\" differences in the samples therefore.\n",
        "\n",
        "<p align= \"center\">\n",
        "  <img src=\"https://raw.githubusercontent.com/maks-sh/scikit-uplift/master/docs/_static/images/TwoModels_vanila.png\" alt=\"Two Models vanila\"/>\n",
        "</p>"
      ]
    },
    {
      "cell_type": "code",
      "metadata": {
        "ExecuteTime": {
          "end_time": "2020-03-11T13:17:39.117989Z",
          "start_time": "2020-03-11T13:17:36.974948Z"
        },
        "id": "ydBCIN_XCIOb",
        "colab_type": "code",
        "outputId": "b6f2a15a-cdbc-42ba-c013-95cae220c946",
        "colab": {
          "base_uri": "https://localhost:8080/",
          "height": 444
        }
      },
      "source": [
        "from sklift.models import TwoModels\n",
        "\n",
        "\n",
        "tm = TwoModels(\n",
        "    estimator_trmnt=CatBoostClassifier(iterations=20, thread_count=2, random_state=42, silent=True), \n",
        "    estimator_ctrl=CatBoostClassifier(iterations=20, thread_count=2, random_state=42, silent=True), \n",
        "    method='vanilla'\n",
        ")\n",
        "tm = tm.fit(\n",
        "    X_train, y_train, treat_train,\n",
        "    estimator_trmnt_fit_params={'cat_features': cat_features}, \n",
        "    estimator_ctrl_fit_params={'cat_features': cat_features}\n",
        ")\n",
        "\n",
        "uplift_tm = tm.predict(X_val)\n",
        "\n",
        "tm_score = uplift_at_k(y_true=y_val, uplift=uplift_tm, treatment=treat_val, k=0.3)\n",
        "\n",
        "models_results['approach'].append('TwoModels')\n",
        "models_results['uplift@30%'].append(tm_score)\n",
        "\n",
        "plot_uplift_preds(trmnt_preds=tm.trmnt_preds_, ctrl_preds=tm.ctrl_preds_);"
      ],
      "execution_count": 0,
      "outputs": [
        {
          "output_type": "display_data",
          "data": {
            "image/png": "[encoded data removed]",
            "text/plain": [
              "<Figure size 1440x504 with 3 Axes>"
            ]
          },
          "metadata": {
            "tags": []
          }
        }
      ]
    },
    {
      "cell_type": "markdown",
      "metadata": {
        "id": "9a8BCVaYCIPH",
        "colab_type": "text"
      },
      "source": [
        "### 2.2 Two dependent models\n",
        "\n",
        "The dependent data representation approach is based on the classifier chain method originally developed for multi-class classification problems. The idea is that if there are $L$ different labels, you can build $L$ different classifiers, each of which solves the problem of binary classification and in the learning process, each subsequent classifier uses the predictions of the previous ones as additional features. The authors of this method suggested using the same idea to solve the problem of uplift modeling in two stages. At the beginning we train the classifier based on control data: \n",
        "\n",
        "$$\n",
        "P^C = P(Y=1| X, W = 0),\n",
        "$$\n",
        "\n",
        "then we will perform the $P_C$ predictions as a new feature for training the second classifier on test data, thus effectively introducing a dependency between the two data sets:\n",
        "\n",
        "$$\n",
        "P^T =  P(Y=1| X, P_C(X), W = 1)\n",
        "$$\n",
        "\n",
        "To get the uplift for each observation, calculate the difference:\n",
        "\n",
        "$$\n",
        "uplift(x_i) = P^T(x_i, P_C(x_i)) - P^C(x_i)\n",
        "$$\n",
        "\n",
        "Intuitively, the second classifier examines the difference between the expected result in the test and the control, i.e. the uplift itself.\n",
        "\n",
        "<p align= \"center\">\n",
        "  <img src=\"https://raw.githubusercontent.com/maks-sh/scikit-uplift/master/docs/_static/images/TwoModels_ddr_control.png\", alt=\"Two dependent models\"/>\n",
        "</p>"
      ]
    },
    {
      "cell_type": "code",
      "metadata": {
        "ExecuteTime": {
          "end_time": "2020-03-11T13:17:41.292973Z",
          "start_time": "2020-03-11T13:17:39.121447Z"
        },
        "id": "vBHTDpX-CIPR",
        "colab_type": "code",
        "outputId": "32d97144-dd91-49d3-e020-026fdfb0460f",
        "colab": {
          "base_uri": "https://localhost:8080/",
          "height": 444
        }
      },
      "source": [
        "tm_ctrl = TwoModels(\n",
        "    estimator_trmnt=CatBoostClassifier(iterations=20, thread_count=2, random_state=42, silent=True), \n",
        "    estimator_ctrl=CatBoostClassifier(iterations=20, thread_count=2, random_state=42, silent=True), \n",
        "    method='ddr_control'\n",
        ")\n",
        "tm_ctrl = tm_ctrl.fit(\n",
        "    X_train, y_train, treat_train,\n",
        "    estimator_trmnt_fit_params={'cat_features': cat_features}, \n",
        "    estimator_ctrl_fit_params={'cat_features': cat_features}\n",
        ")\n",
        "\n",
        "uplift_tm_ctrl = tm_ctrl.predict(X_val)\n",
        "\n",
        "tm_ctrl_score = uplift_at_k(y_true=y_val, uplift=uplift_tm_ctrl, treatment=treat_val, k=0.3)\n",
        "\n",
        "models_results['approach'].append('TwoModels_ddr_control')\n",
        "models_results['uplift@30%'].append(tm_ctrl_score)\n",
        "\n",
        "plot_uplift_preds(trmnt_preds=tm_ctrl.trmnt_preds_, ctrl_preds=tm_ctrl.ctrl_preds_);"
      ],
      "execution_count": 0,
      "outputs": [
        {
          "output_type": "display_data",
          "data": {
            "image/png": "[encoded data removed]",
            "text/plain": [
              "<Figure size 1440x504 with 3 Axes>"
            ]
          },
          "metadata": {
            "tags": []
          }
        }
      ]
    },
    {
      "cell_type": "markdown",
      "metadata": {
        "id": "gsHLrueoCIP2",
        "colab_type": "text"
      },
      "source": [
        "Similarly, you can first train the $P^T$ classifier, and then use its predictions as a feature for the $P^C$ classifier."
      ]
    },
    {
      "cell_type": "code",
      "metadata": {
        "ExecuteTime": {
          "end_time": "2020-03-11T13:17:43.556956Z",
          "start_time": "2020-03-11T13:17:41.297687Z"
        },
        "id": "gwcyMZogCIP4",
        "colab_type": "code",
        "outputId": "91583f7c-c48d-40f2-c375-0a8d7cf69d9c",
        "colab": {
          "base_uri": "https://localhost:8080/",
          "height": 444
        }
      },
      "source": [
        "tm_trmnt = TwoModels(\n",
        "    estimator_trmnt=CatBoostClassifier(iterations=20, thread_count=2, random_state=42, silent=True), \n",
        "    estimator_ctrl=CatBoostClassifier(iterations=20, thread_count=2, random_state=42, silent=True), \n",
        "    method='ddr_treatment'\n",
        ")\n",
        "tm_trmnt = tm_trmnt.fit(\n",
        "    X_train, y_train, treat_train,\n",
        "    estimator_trmnt_fit_params={'cat_features': cat_features}, \n",
        "    estimator_ctrl_fit_params={'cat_features': cat_features}\n",
        ")\n",
        "\n",
        "uplift_tm_trmnt = tm_trmnt.predict(X_val)\n",
        "\n",
        "tm_trmnt_score = uplift_at_k(y_true=y_val, uplift=uplift_tm_trmnt, treatment=treat_val, k=0.3)\n",
        "\n",
        "models_results['approach'].append('TwoModels_ddr_treatment')\n",
        "models_results['uplift@30%'].append(tm_trmnt_score)\n",
        "\n",
        "plot_uplift_preds(trmnt_preds=tm_trmnt.trmnt_preds_, ctrl_preds=tm_trmnt.ctrl_preds_);"
      ],
      "execution_count": 0,
      "outputs": [
        {
          "output_type": "display_data",
          "data": {
            "image/png": "[encoded data removed]",
            "text/plain": [
              "<Figure size 1440x504 with 3 Axes>"
            ]
          },
          "metadata": {
            "tags": []
          }
        }
      ]
    },
    {
      "cell_type": "markdown",
      "metadata": {
        "id": "BLd9GH1WCIQT",
        "colab_type": "text"
      },
      "source": [
        "## Conclusion\n",
        "\n",
        "Let's consider which method performed best in this task and use it to speed up the test sample:"
      ]
    },
    {
      "cell_type": "code",
      "metadata": {
        "ExecuteTime": {
          "end_time": "2020-03-11T13:17:43.573619Z",
          "start_time": "2020-03-11T13:17:43.560029Z"
        },
        "id": "x6pYalimCIQW",
        "colab_type": "code",
        "outputId": "7910ceb8-e15e-4d4b-ae2d-4e0ab0ac7737",
        "colab": {
          "base_uri": "https://localhost:8080/",
          "height": 204
        }
      },
      "source": [
        "pd.DataFrame(data=models_results).sort_values('uplift@30%', ascending=False)"
      ],
      "execution_count": 0,
      "outputs": [
        {
          "output_type": "execute_result",
          "data": {
            "text/html": [
              "<div>\n",
              "<style scoped>\n",
              "    .dataframe tbody tr th:only-of-type {\n",
              "        vertical-align: middle;\n",
              "    }\n",
              "\n",
              "    .dataframe tbody tr th {\n",
              "        vertical-align: top;\n",
              "    }\n",
              "\n",
              "    .dataframe thead th {\n",
              "        text-align: right;\n",
              "    }\n",
              "</style>\n",
              "<table border=\"1\" class=\"dataframe\">\n",
              "  <thead>\n",
              "    <tr style=\"text-align: right;\">\n",
              "      <th></th>\n",
              "      <th>approach</th>\n",
              "      <th>uplift@30%</th>\n",
              "    </tr>\n",
              "  </thead>\n",
              "  <tbody>\n",
              "    <tr>\n",
              "      <th>1</th>\n",
              "      <td>ClassTransformation</td>\n",
              "      <td>0.061775</td>\n",
              "    </tr>\n",
              "    <tr>\n",
              "      <th>2</th>\n",
              "      <td>TwoModels</td>\n",
              "      <td>0.051637</td>\n",
              "    </tr>\n",
              "    <tr>\n",
              "      <th>3</th>\n",
              "      <td>TwoModels_ddr_control</td>\n",
              "      <td>0.047793</td>\n",
              "    </tr>\n",
              "    <tr>\n",
              "      <th>0</th>\n",
              "      <td>SoloModel</td>\n",
              "      <td>0.041614</td>\n",
              "    </tr>\n",
              "    <tr>\n",
              "      <th>4</th>\n",
              "      <td>TwoModels_ddr_treatment</td>\n",
              "      <td>0.033752</td>\n",
              "    </tr>\n",
              "  </tbody>\n",
              "</table>\n",
              "</div>"
            ],
            "text/plain": [
              "                  approach  uplift@30%\n",
              "1      ClassTransformation    0.061775\n",
              "2                TwoModels    0.051637\n",
              "3    TwoModels_ddr_control    0.047793\n",
              "0                SoloModel    0.041614\n",
              "4  TwoModels_ddr_treatment    0.033752"
            ]
          },
          "metadata": {
            "tags": []
          },
          "execution_count": 10
        }
      ]
    },
    {
      "cell_type": "markdown",
      "metadata": {
        "id": "L55TyGbWCIQ0",
        "colab_type": "text"
      },
      "source": [
        "From the table above you can see that the current task suits best for the approach to the transformation of the target line. Let's train the model on the entire sample and predict the test."
      ]
    },
    {
      "cell_type": "code",
      "metadata": {
        "ExecuteTime": {
          "end_time": "2020-03-11T13:17:46.149906Z",
          "start_time": "2020-03-11T13:17:43.577888Z"
        },
        "id": "WnVKI1qZCIQ3",
        "colab_type": "code",
        "outputId": "b1efb1d4-1f83-4c53-d3c8-84060d7a2d11",
        "colab": {
          "base_uri": "https://localhost:8080/",
          "height": 156
        }
      },
      "source": [
        "cm_full = ClassTransformation(CatBoostClassifier(iterations=20, thread_count=2, random_state=42, silent=True))\n",
        "cm_full = cm_full.fit(X_train_full, y_train_full, treat_train_full, estimator_fit_params={'cat_features': [1]})\n",
        "\n",
        "X_test.loc[:, 'uplift'] = cm_full.predict(X_test.values)\n",
        "\n",
        "sub = X_test[['uplift']].to_csv('sub1.csv')\n",
        "\n",
        "!head -n 5 sub1.csv"
      ],
      "execution_count": 0,
      "outputs": [
        {
          "output_type": "stream",
          "text": [
            "/usr/local/lib/python3.6/dist-packages/ipykernel_launcher.py:2: UserWarning: It is recommended to use this approach on treatment balanced data. Current sample size is unbalanced.\n",
            "  \n"
          ],
          "name": "stderr"
        },
        {
          "output_type": "stream",
          "text": [
            "client_id,uplift\n",
            "000048b7a6,0.03244481877693639\n",
            "000073194a,0.029427607204029815\n",
            "00007c7133,0.014729684558687728\n",
            "00007f9014,0.02778484806513082\n"
          ],
          "name": "stdout"
        }
      ]
    },
    {
      "cell_type": "code",
      "metadata": {
        "ExecuteTime": {
          "end_time": "2020-03-11T13:17:46.202158Z",
          "start_time": "2020-03-11T13:17:46.152857Z"
        },
        "id": "LatAKULTCIRS",
        "colab_type": "code",
        "outputId": "dfaff81b-9cd0-4341-93ab-430c791fa933",
        "colab": {
          "base_uri": "https://localhost:8080/",
          "height": 204
        }
      },
      "source": [
        "cm_full_fi = pd.DataFrame({\n",
        "    'feature_name': cm_full.estimator.feature_names_,\n",
        "    'feature_score': cm_full.estimator.feature_importances_\n",
        "}).sort_values('feature_score', ascending=False).reset_index(drop=True)\n",
        "\n",
        "cm_full_fi"
      ],
      "execution_count": 0,
      "outputs": [
        {
          "output_type": "execute_result",
          "data": {
            "text/html": [
              "<div>\n",
              "<style scoped>\n",
              "    .dataframe tbody tr th:only-of-type {\n",
              "        vertical-align: middle;\n",
              "    }\n",
              "\n",
              "    .dataframe tbody tr th {\n",
              "        vertical-align: top;\n",
              "    }\n",
              "\n",
              "    .dataframe thead th {\n",
              "        text-align: right;\n",
              "    }\n",
              "</style>\n",
              "<table border=\"1\" class=\"dataframe\">\n",
              "  <thead>\n",
              "    <tr style=\"text-align: right;\">\n",
              "      <th></th>\n",
              "      <th>feature_name</th>\n",
              "      <th>feature_score</th>\n",
              "    </tr>\n",
              "  </thead>\n",
              "  <tbody>\n",
              "    <tr>\n",
              "      <th>0</th>\n",
              "      <td>first_redeem_time</td>\n",
              "      <td>86.662273</td>\n",
              "    </tr>\n",
              "    <tr>\n",
              "      <th>1</th>\n",
              "      <td>age</td>\n",
              "      <td>5.582358</td>\n",
              "    </tr>\n",
              "    <tr>\n",
              "      <th>2</th>\n",
              "      <td>issue_redeem_delay</td>\n",
              "      <td>3.467160</td>\n",
              "    </tr>\n",
              "    <tr>\n",
              "      <th>3</th>\n",
              "      <td>first_issue_time</td>\n",
              "      <td>2.755578</td>\n",
              "    </tr>\n",
              "    <tr>\n",
              "      <th>4</th>\n",
              "      <td>gender</td>\n",
              "      <td>1.532631</td>\n",
              "    </tr>\n",
              "  </tbody>\n",
              "</table>\n",
              "</div>"
            ],
            "text/plain": [
              "         feature_name  feature_score\n",
              "0   first_redeem_time      86.662273\n",
              "1                 age       5.582358\n",
              "2  issue_redeem_delay       3.467160\n",
              "3    first_issue_time       2.755578\n",
              "4              gender       1.532631"
            ]
          },
          "metadata": {
            "tags": []
          },
          "execution_count": 12
        }
      ]
    },
    {
      "cell_type": "markdown",
      "metadata": {
        "id": "5wHQNSHdCIRj",
        "colab_type": "text"
      },
      "source": [
        "This way we got acquainted with uplift modeling and considered the main basic approaches to its construction. What's next? Then you can plunge them into the intelligence analysis of data, generate some new features, select the models and their hyperparameters and learn new approaches and libraries.\n",
        "\n",
        "**Thank you for reading to the end.**\n",
        "\n",
        "**I will be pleased if you support the project with an star on [github](https://github.com/maks-sh/scikit-uplift/) or tell your friends about it.**"
      ]
    }
  ]
}